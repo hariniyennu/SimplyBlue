{
 "cells": [
  {
   "cell_type": "code",
   "execution_count": 1,
   "id": "1056c269-7568-4340-95a2-63c23542d1df",
   "metadata": {},
   "outputs": [],
   "source": [
    "import numpy as np\n",
    "import cv2\n",
    "%matplotlib inline\n",
    "import matplotlib.pyplot as plt"
   ]
  },
  {
   "cell_type": "code",
   "execution_count": 2,
   "id": "107025ef-bb7e-4eea-87d6-e19b9e96750d",
   "metadata": {},
   "outputs": [],
   "source": [
    "cap=cv2.VideoCapture(0)"
   ]
  },
  {
   "cell_type": "code",
   "execution_count": 3,
   "id": "d2e867c7-38f6-4b2e-8cbe-fc3c12a4e1ee",
   "metadata": {},
   "outputs": [],
   "source": [
    "while True:\n",
    "    ret,frame = cap.read()\n",
    "    image= np.zeros(frame.shape,np.uint8)\n",
    "    width=int(cap.get(3))\n",
    "    height=int(cap.get(4))\n",
    "    hsv=cv2.cvtColor(frame,cv2.COLOR_BGR2HSV)\n",
    "    lower_blue=np.array([90,50,50])\n",
    "    upper_blue=np.array([130,255,255])\n",
    "    mask=cv2.inRange(hsv,lower_blue,upper_blue)\n",
    "    result=cv2.bitwise_and(frame,frame,mask=mask)\n",
    "    cv2.imshow(\"frame\",result)\n",
    "    if cv2.waitKey(1)==ord('q'):\n",
    "        break\n",
    "cap.release()\n",
    "cv2.destroyAllWindows()"
   ]
  },
  {
   "cell_type": "code",
   "execution_count": null,
   "id": "78f0fb90-b8fc-452b-bb01-e6722ef57beb",
   "metadata": {},
   "outputs": [],
   "source": []
  }
 ],
 "metadata": {
  "kernelspec": {
   "display_name": "Python 3 (ipykernel)",
   "language": "python",
   "name": "python3"
  },
  "language_info": {
   "codemirror_mode": {
    "name": "ipython",
    "version": 3
   },
   "file_extension": ".py",
   "mimetype": "text/x-python",
   "name": "python",
   "nbconvert_exporter": "python",
   "pygments_lexer": "ipython3",
   "version": "3.11.7"
  }
 },
 "nbformat": 4,
 "nbformat_minor": 5
}
